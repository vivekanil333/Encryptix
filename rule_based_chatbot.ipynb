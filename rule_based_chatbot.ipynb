{
  "nbformat": 4,
  "nbformat_minor": 0,
  "metadata": {
    "colab": {
      "provenance": []
    },
    "kernelspec": {
      "name": "python3",
      "display_name": "Python 3"
    },
    "language_info": {
      "name": "python"
    }
  },
  "cells": [
    {
      "cell_type": "code",
      "execution_count": null,
      "metadata": {
        "colab": {
          "base_uri": "https://localhost:8080/"
        },
        "id": "1s0FWo5lJt45",
        "outputId": "e0502c8b-41fa-4aaa-b289-6df2d27a0814"
      },
      "outputs": [
        {
          "output_type": "stream",
          "name": "stdout",
          "text": [
            "You: hello\n",
            "Bot: Hi there! How can I help you?\n",
            "You: how are you\n",
            "Bot: I'm a chatbot, so I don't have feelings, but I'm here to help you!\n"
          ]
        }
      ],
      "source": [
        "import re\n",
        "\n",
        "# Function to handle user input and provide responses\n",
        "def chatbot_response(user_input):\n",
        "    # Define rules and responses\n",
        "    responses = {\n",
        "        r\"hello|hi|hey\": \"Hi there! How can I help you?\",\n",
        "        r\"how are you|how r u\": \"I'm a chatbot, so I don't have feelings, but I'm here to help you!\",\n",
        "        r\"what are your hours|what time do you open|what time do you close\": \"We are open from 9 AM to 5 PM, Monday to Friday.\",\n",
        "        r\"goodbye|bye|see you\": \"Goodbye! Have a nice day!\",\n",
        "    }\n",
        "\n",
        "    # Convert user input to lowercase to make matching case-insensitive\n",
        "    user_input = user_input.lower()\n",
        "\n",
        "    # Check each rule using regular expressions\n",
        "    for pattern, response in responses.items():\n",
        "        if re.search(pattern, user_input):\n",
        "            return response\n",
        "\n",
        "    # If no match is found, return a default response\n",
        "    return \"I'm not sure how to respond to that.\"\n",
        "\n",
        "# Main loop to interact with the chatbot\n",
        "while True:\n",
        "    user_input = input(\"You: \")\n",
        "    if user_input.lower() == 'exit':\n",
        "        print(\"Bot: Goodbye!\")\n",
        "        break\n",
        "    print(\"Bot:\", chatbot_response(user_input))"
      ]
    },
    {
      "cell_type": "code",
      "source": [],
      "metadata": {
        "id": "co5RGBvNKXhN"
      },
      "execution_count": null,
      "outputs": []
    }
  ]
}