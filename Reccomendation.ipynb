{
  "nbformat": 4,
  "nbformat_minor": 0,
  "metadata": {
    "colab": {
      "provenance": []
    },
    "kernelspec": {
      "name": "python3",
      "display_name": "Python 3"
    },
    "language_info": {
      "name": "python"
    }
  },
  "cells": [
    {
      "cell_type": "code",
      "execution_count": 3,
      "metadata": {
        "colab": {
          "base_uri": "https://localhost:8080/"
        },
        "id": "dz1IEJOFOjDu",
        "outputId": "b1c8ac6c-37b2-4cf9-f1a5-f8f89e001c80"
      },
      "outputs": [
        {
          "output_type": "execute_result",
          "data": {
            "text/plain": [
              "['ml-100k.zip', 'ml-100k']"
            ]
          },
          "metadata": {},
          "execution_count": 3
        }
      ],
      "source": [
        "import os\n",
        "import urllib.request\n",
        "import zipfile\n",
        "\n",
        "# Create a directory for the dataset\n",
        "dataset_dir = 'ml-100k'\n",
        "if not os.path.exists(dataset_dir):\n",
        "    os.makedirs(dataset_dir)\n",
        "\n",
        "# Download the dataset\n",
        "url = 'http://files.grouplens.org/datasets/movielens/ml-100k.zip'\n",
        "zip_path = os.path.join(dataset_dir, 'ml-100k.zip')\n",
        "urllib.request.urlretrieve(url, zip_path)\n",
        "\n",
        "# Unzip the dataset\n",
        "with zipfile.ZipFile(zip_path, 'r') as zip_ref:\n",
        "    zip_ref.extractall(dataset_dir)\n",
        "\n",
        "# List the files to confirm\n",
        "os.listdir(dataset_dir)\n"
      ]
    },
    {
      "cell_type": "code",
      "source": [
        "import pandas as pd\n",
        "\n",
        "# Define file paths\n",
        "ratings_path = os.path.join(dataset_dir, 'ml-100k', 'u.data')\n",
        "movies_path = os.path.join(dataset_dir, 'ml-100k', 'u.item')\n",
        "\n",
        "# Load the dataset\n",
        "ratings = pd.read_csv(ratings_path, sep='\\t', names=['user_id', 'item_id', 'rating', 'timestamp'])\n",
        "movies = pd.read_csv(movies_path, sep='|', encoding='latin-1', names=['item_id', 'title'], usecols=[0, 1])\n",
        "\n",
        "# Display the first few rows of each dataset\n",
        "print(ratings.head())\n",
        "print(movies.head())\n",
        "\n",
        "# Merge ratings with movies\n",
        "ratings = pd.merge(ratings, movies, on='item_id')\n",
        "\n",
        "# Create user-item interaction matrix\n",
        "user_movie_matrix = ratings.pivot_table(index='user_id', columns='title', values='rating')\n",
        "\n",
        "# Fill NaN values with 0\n",
        "user_movie_matrix_filled = user_movie_matrix.fillna(0)\n",
        "\n",
        "# Compute cosine similarity between users\n",
        "from sklearn.metrics.pairwise import cosine_similarity\n",
        "import numpy as np\n",
        "\n",
        "user_similarity = cosine_similarity(user_movie_matrix_filled)\n",
        "\n",
        "# Convert to DataFrame for better readability\n",
        "user_similarity_df = pd.DataFrame(user_similarity, index=user_movie_matrix.index, columns=user_movie_matrix.index)\n",
        "\n",
        "# Function to get recommendations\n",
        "def get_recommendations(user_id, num_recommendations=5):\n",
        "    # Get similarity scores for the user\n",
        "    user_similarity_scores = user_similarity_df[user_id]\n",
        "\n",
        "    # Get ratings given by the user\n",
        "    user_ratings = user_movie_matrix.loc[user_id]\n",
        "\n",
        "    # Compute the weighted sum of ratings of similar users\n",
        "    weighted_ratings = user_similarity_scores.dot(user_movie_matrix_filled) / user_similarity_scores.sum()\n",
        "\n",
        "    # Create a DataFrame with the weighted ratings\n",
        "    recommendations = pd.DataFrame(weighted_ratings, index=user_movie_matrix.columns, columns=['rating'])\n",
        "\n",
        "    # Remove movies already rated by the user\n",
        "    recommendations = recommendations[~recommendations.index.isin(user_ratings.dropna().index)]\n",
        "\n",
        "    # Sort the recommendations\n",
        "    recommendations = recommendations.sort_values(by='rating', ascending=False)\n",
        "\n",
        "    return recommendations.head(num_recommendations)\n",
        "\n",
        "# Get recommendations for a user\n",
        "user_id = 1\n",
        "recommendations = get_recommendations(user_id)\n",
        "print(recommendations)\n",
        "\n",
        "\n",
        "\n"
      ],
      "metadata": {
        "colab": {
          "base_uri": "https://localhost:8080/"
        },
        "id": "FRxjbLXLQzP5",
        "outputId": "86d20e27-a888-4671-a2e5-52a4ef48d445"
      },
      "execution_count": 7,
      "outputs": [
        {
          "output_type": "stream",
          "name": "stdout",
          "text": [
            "   user_id  item_id  rating  timestamp\n",
            "0      196      242       3  881250949\n",
            "1      186      302       3  891717742\n",
            "2       22      377       1  878887116\n",
            "3      244       51       2  880606923\n",
            "4      166      346       1  886397596\n",
            "   item_id              title\n",
            "0        1   Toy Story (1995)\n",
            "1        2   GoldenEye (1995)\n",
            "2        3  Four Rooms (1995)\n",
            "3        4  Get Shorty (1995)\n",
            "4        5     Copycat (1995)\n",
            "                                            rating\n",
            "title                                             \n",
            "'Til There Was You (1997)                      NaN\n",
            "1-900 (1994)                                   NaN\n",
            "187 (1997)                                     NaN\n",
            "2 Days in the Valley (1996)                    NaN\n",
            "3 Ninjas: High Noon At Mega Mountain (1998)    NaN\n"
          ]
        }
      ]
    },
    {
      "cell_type": "code",
      "source": [],
      "metadata": {
        "id": "iPCW1t47Q4-u"
      },
      "execution_count": null,
      "outputs": []
    }
  ]
}